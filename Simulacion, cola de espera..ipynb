{
 "cells": [
  {
   "cell_type": "markdown",
   "metadata": {},
   "source": [
    "## Leer los datos"
   ]
  },
  {
   "cell_type": "code",
   "execution_count": 162,
   "metadata": {
    "scrolled": true
   },
   "outputs": [
    {
     "data": {
      "text/html": [
       "<div>\n",
       "<style>\n",
       "    .dataframe thead tr:only-child th {\n",
       "        text-align: right;\n",
       "    }\n",
       "\n",
       "    .dataframe thead th {\n",
       "        text-align: left;\n",
       "    }\n",
       "\n",
       "    .dataframe tbody tr th {\n",
       "        vertical-align: top;\n",
       "    }\n",
       "</style>\n",
       "<table border=\"1\" class=\"dataframe\">\n",
       "  <thead>\n",
       "    <tr style=\"text-align: right;\">\n",
       "      <th></th>\n",
       "      <th>Lap</th>\n",
       "      <th>Elapsed Time</th>\n",
       "      <th>Lap Time</th>\n",
       "      <th>Minutes</th>\n",
       "    </tr>\n",
       "  </thead>\n",
       "  <tbody>\n",
       "    <tr>\n",
       "      <th>0</th>\n",
       "      <td>100</td>\n",
       "      <td>45:03.9</td>\n",
       "      <td>01:31.0</td>\n",
       "      <td>1.500</td>\n",
       "    </tr>\n",
       "    <tr>\n",
       "      <th>1</th>\n",
       "      <td>99</td>\n",
       "      <td>43:32.9</td>\n",
       "      <td>01:08.3</td>\n",
       "      <td>1.133</td>\n",
       "    </tr>\n",
       "    <tr>\n",
       "      <th>2</th>\n",
       "      <td>98</td>\n",
       "      <td>42:24.6</td>\n",
       "      <td>00:16.5</td>\n",
       "      <td>0.267</td>\n",
       "    </tr>\n",
       "    <tr>\n",
       "      <th>3</th>\n",
       "      <td>97</td>\n",
       "      <td>42:08.1</td>\n",
       "      <td>02:13.1</td>\n",
       "      <td>2.217</td>\n",
       "    </tr>\n",
       "    <tr>\n",
       "      <th>4</th>\n",
       "      <td>96</td>\n",
       "      <td>39:55.0</td>\n",
       "      <td>02:33.5</td>\n",
       "      <td>2.550</td>\n",
       "    </tr>\n",
       "  </tbody>\n",
       "</table>\n",
       "</div>"
      ],
      "text/plain": [
       "   Lap Elapsed Time Lap Time  Minutes\n",
       "0  100      45:03.9  01:31.0    1.500\n",
       "1   99      43:32.9  01:08.3    1.133\n",
       "2   98      42:24.6  00:16.5    0.267\n",
       "3   97      42:08.1  02:13.1    2.217\n",
       "4   96      39:55.0  02:33.5    2.550"
      ]
     },
     "execution_count": 162,
     "metadata": {},
     "output_type": "execute_result"
    }
   ],
   "source": [
    "import pandas as pd\n",
    "\n",
    "data = pd.read_csv('simulacion.csv')\n",
    "\n",
    "data.head()"
   ]
  },
  {
   "cell_type": "markdown",
   "metadata": {},
   "source": [
    "## Histograma"
   ]
  },
  {
   "cell_type": "code",
   "execution_count": 163,
   "metadata": {},
   "outputs": [
    {
     "data": {
      "image/png": "[encoded data removed]",
      "text/plain": [
       "<matplotlib.figure.Figure at 0x1da980973c8>"
      ]
     },
     "metadata": {},
     "output_type": "display_data"
    }
   ],
   "source": [
    "import matplotlib.pyplot as plt\n",
    "\n",
    "freq, bins, _ = plt.hist(data['Minutes'], bins=7)"
   ]
  },
  {
   "cell_type": "markdown",
   "metadata": {},
   "source": [
    "## Media muestral"
   ]
  },
  {
   "cell_type": "code",
   "execution_count": 164,
   "metadata": {},
   "outputs": [
    {
     "data": {
      "text/plain": [
       "1.6430300000000009"
      ]
     },
     "execution_count": 164,
     "metadata": {},
     "output_type": "execute_result"
    }
   ],
   "source": [
    "data['Minutes'].mean()"
   ]
  },
  {
   "cell_type": "markdown",
   "metadata": {},
   "source": [
    "## Intervalos"
   ]
  },
  {
   "cell_type": "code",
   "execution_count": 165,
   "metadata": {},
   "outputs": [
    {
     "data": {
      "text/html": [
       "<div>\n",
       "<style>\n",
       "    .dataframe thead tr:only-child th {\n",
       "        text-align: right;\n",
       "    }\n",
       "\n",
       "    .dataframe thead th {\n",
       "        text-align: left;\n",
       "    }\n",
       "\n",
       "    .dataframe tbody tr th {\n",
       "        vertical-align: top;\n",
       "    }\n",
       "</style>\n",
       "<table border=\"1\" class=\"dataframe\">\n",
       "  <thead>\n",
       "    <tr style=\"text-align: right;\">\n",
       "      <th></th>\n",
       "      <th>Intervalos de llegada</th>\n",
       "    </tr>\n",
       "  </thead>\n",
       "  <tbody>\n",
       "    <tr>\n",
       "      <th>0</th>\n",
       "      <td>0.117 -  0.807</td>\n",
       "    </tr>\n",
       "    <tr>\n",
       "      <th>1</th>\n",
       "      <td>0.807 -  1.498</td>\n",
       "    </tr>\n",
       "    <tr>\n",
       "      <th>2</th>\n",
       "      <td>1.498 -  2.188</td>\n",
       "    </tr>\n",
       "    <tr>\n",
       "      <th>3</th>\n",
       "      <td>2.188 -  2.879</td>\n",
       "    </tr>\n",
       "    <tr>\n",
       "      <th>4</th>\n",
       "      <td>2.879 -  3.569</td>\n",
       "    </tr>\n",
       "    <tr>\n",
       "      <th>5</th>\n",
       "      <td>3.569 -  4.260</td>\n",
       "    </tr>\n",
       "    <tr>\n",
       "      <th>6</th>\n",
       "      <td>4.260 -  4.950</td>\n",
       "    </tr>\n",
       "  </tbody>\n",
       "</table>\n",
       "</div>"
      ],
      "text/plain": [
       "  Intervalos de llegada\n",
       "0        0.117 -  0.807\n",
       "1        0.807 -  1.498\n",
       "2        1.498 -  2.188\n",
       "3        2.188 -  2.879\n",
       "4        2.879 -  3.569\n",
       "5        3.569 -  4.260\n",
       "6        4.260 -  4.950"
      ]
     },
     "execution_count": 165,
     "metadata": {},
     "output_type": "execute_result"
    }
   ],
   "source": [
    "tabla = pd.DataFrame()\n",
    "\n",
    "intervalos = []\n",
    "\n",
    "for i in range(1, 8):\n",
    "    int = '{0: > .3f} - {1: > .3f}'.format(bins[i-1], bins[i])\n",
    "    intervalos.append(int)\n",
    "    \n",
    "tabla['Intervalos de llegada'] = intervalos\n",
    "tabla"
   ]
  },
  {
   "cell_type": "markdown",
   "metadata": {},
   "source": [
    "## Frecuencia observada"
   ]
  },
  {
   "cell_type": "code",
   "execution_count": 166,
   "metadata": {},
   "outputs": [
    {
     "data": {
      "text/html": [
       "<div>\n",
       "<style>\n",
       "    .dataframe thead tr:only-child th {\n",
       "        text-align: right;\n",
       "    }\n",
       "\n",
       "    .dataframe thead th {\n",
       "        text-align: left;\n",
       "    }\n",
       "\n",
       "    .dataframe tbody tr th {\n",
       "        vertical-align: top;\n",
       "    }\n",
       "</style>\n",
       "<table border=\"1\" class=\"dataframe\">\n",
       "  <thead>\n",
       "    <tr style=\"text-align: right;\">\n",
       "      <th></th>\n",
       "      <th>Intervalos de llegada</th>\n",
       "      <th>Frecuencia observada</th>\n",
       "    </tr>\n",
       "  </thead>\n",
       "  <tbody>\n",
       "    <tr>\n",
       "      <th>0</th>\n",
       "      <td>0.117 -  0.807</td>\n",
       "      <td>33.0</td>\n",
       "    </tr>\n",
       "    <tr>\n",
       "      <th>1</th>\n",
       "      <td>0.807 -  1.498</td>\n",
       "      <td>24.0</td>\n",
       "    </tr>\n",
       "    <tr>\n",
       "      <th>2</th>\n",
       "      <td>1.498 -  2.188</td>\n",
       "      <td>9.0</td>\n",
       "    </tr>\n",
       "    <tr>\n",
       "      <th>3</th>\n",
       "      <td>2.188 -  2.879</td>\n",
       "      <td>17.0</td>\n",
       "    </tr>\n",
       "    <tr>\n",
       "      <th>4</th>\n",
       "      <td>2.879 -  3.569</td>\n",
       "      <td>5.0</td>\n",
       "    </tr>\n",
       "    <tr>\n",
       "      <th>5</th>\n",
       "      <td>3.569 -  4.260</td>\n",
       "      <td>9.0</td>\n",
       "    </tr>\n",
       "    <tr>\n",
       "      <th>6</th>\n",
       "      <td>4.260 -  4.950</td>\n",
       "      <td>3.0</td>\n",
       "    </tr>\n",
       "  </tbody>\n",
       "</table>\n",
       "</div>"
      ],
      "text/plain": [
       "  Intervalos de llegada  Frecuencia observada\n",
       "0        0.117 -  0.807                  33.0\n",
       "1        0.807 -  1.498                  24.0\n",
       "2        1.498 -  2.188                   9.0\n",
       "3        2.188 -  2.879                  17.0\n",
       "4        2.879 -  3.569                   5.0\n",
       "5        3.569 -  4.260                   9.0\n",
       "6        4.260 -  4.950                   3.0"
      ]
     },
     "execution_count": 166,
     "metadata": {},
     "output_type": "execute_result"
    }
   ],
   "source": [
    "tabla['Frecuencia observada'] = freq\n",
    "tabla"
   ]
  },
  {
   "cell_type": "markdown",
   "metadata": {},
   "source": [
    "## Probabilidad de ocurrencia"
   ]
  },
  {
   "cell_type": "code",
   "execution_count": 167,
   "metadata": {},
   "outputs": [
    {
     "data": {
      "text/html": [
       "<div>\n",
       "<style>\n",
       "    .dataframe thead tr:only-child th {\n",
       "        text-align: right;\n",
       "    }\n",
       "\n",
       "    .dataframe thead th {\n",
       "        text-align: left;\n",
       "    }\n",
       "\n",
       "    .dataframe tbody tr th {\n",
       "        vertical-align: top;\n",
       "    }\n",
       "</style>\n",
       "<table border=\"1\" class=\"dataframe\">\n",
       "  <thead>\n",
       "    <tr style=\"text-align: right;\">\n",
       "      <th></th>\n",
       "      <th>Intervalos de llegada</th>\n",
       "      <th>Frecuencia observada</th>\n",
       "      <th>Probabilidad de ocurrencia</th>\n",
       "    </tr>\n",
       "  </thead>\n",
       "  <tbody>\n",
       "    <tr>\n",
       "      <th>0</th>\n",
       "      <td>0.117 -  0.807</td>\n",
       "      <td>33.0</td>\n",
       "      <td>0.4436</td>\n",
       "    </tr>\n",
       "    <tr>\n",
       "      <th>1</th>\n",
       "      <td>0.807 -  1.498</td>\n",
       "      <td>24.0</td>\n",
       "      <td>0.2224</td>\n",
       "    </tr>\n",
       "    <tr>\n",
       "      <th>2</th>\n",
       "      <td>1.498 -  2.188</td>\n",
       "      <td>9.0</td>\n",
       "      <td>0.1115</td>\n",
       "    </tr>\n",
       "    <tr>\n",
       "      <th>3</th>\n",
       "      <td>2.188 -  2.879</td>\n",
       "      <td>17.0</td>\n",
       "      <td>0.0559</td>\n",
       "    </tr>\n",
       "    <tr>\n",
       "      <th>4</th>\n",
       "      <td>2.879 -  3.569</td>\n",
       "      <td>5.0</td>\n",
       "      <td>0.0280</td>\n",
       "    </tr>\n",
       "    <tr>\n",
       "      <th>5</th>\n",
       "      <td>3.569 -  4.260</td>\n",
       "      <td>9.0</td>\n",
       "      <td>0.0141</td>\n",
       "    </tr>\n",
       "    <tr>\n",
       "      <th>6</th>\n",
       "      <td>4.260 -  4.950</td>\n",
       "      <td>3.0</td>\n",
       "      <td>0.1245</td>\n",
       "    </tr>\n",
       "  </tbody>\n",
       "</table>\n",
       "</div>"
      ],
      "text/plain": [
       "  Intervalos de llegada  Frecuencia observada  Probabilidad de ocurrencia\n",
       "0        0.117 -  0.807                  33.0                      0.4436\n",
       "1        0.807 -  1.498                  24.0                      0.2224\n",
       "2        1.498 -  2.188                   9.0                      0.1115\n",
       "3        2.188 -  2.879                  17.0                      0.0559\n",
       "4        2.879 -  3.569                   5.0                      0.0280\n",
       "5        3.569 -  4.260                   9.0                      0.0141\n",
       "6        4.260 -  4.950                   3.0                      0.1245"
      ]
     },
     "execution_count": 167,
     "metadata": {},
     "output_type": "execute_result"
    }
   ],
   "source": [
    "from scipy.stats import expon\n",
    "\n",
    "probs = []\n",
    "for i in range(1,7):\n",
    "    cdf = round(expon.cdf(bins[i]) - expon.cdf(bins[i-1]), 4)\n",
    "    probs.append(cdf)\n",
    "    \n",
    "probs.append(1-sum(probs))\n",
    "\n",
    "tabla['Probabilidad de ocurrencia'] = probs\n",
    "tabla"
   ]
  },
  {
   "cell_type": "markdown",
   "metadata": {},
   "source": [
    "## Frecuencia esperada"
   ]
  },
  {
   "cell_type": "code",
   "execution_count": 168,
   "metadata": {},
   "outputs": [
    {
     "data": {
      "text/html": [
       "<div>\n",
       "<style>\n",
       "    .dataframe thead tr:only-child th {\n",
       "        text-align: right;\n",
       "    }\n",
       "\n",
       "    .dataframe thead th {\n",
       "        text-align: left;\n",
       "    }\n",
       "\n",
       "    .dataframe tbody tr th {\n",
       "        vertical-align: top;\n",
       "    }\n",
       "</style>\n",
       "<table border=\"1\" class=\"dataframe\">\n",
       "  <thead>\n",
       "    <tr style=\"text-align: right;\">\n",
       "      <th></th>\n",
       "      <th>Intervalos de llegada</th>\n",
       "      <th>Frecuencia observada</th>\n",
       "      <th>Probabilidad de ocurrencia</th>\n",
       "      <th>Frecuencia esperada</th>\n",
       "      <th>Agrupada (&gt;=5)</th>\n",
       "    </tr>\n",
       "  </thead>\n",
       "  <tbody>\n",
       "    <tr>\n",
       "      <th>0</th>\n",
       "      <td>0.117 -  0.807</td>\n",
       "      <td>33.0</td>\n",
       "      <td>0.4436</td>\n",
       "      <td>44.36</td>\n",
       "      <td></td>\n",
       "    </tr>\n",
       "    <tr>\n",
       "      <th>1</th>\n",
       "      <td>0.807 -  1.498</td>\n",
       "      <td>24.0</td>\n",
       "      <td>0.2224</td>\n",
       "      <td>22.24</td>\n",
       "      <td></td>\n",
       "    </tr>\n",
       "    <tr>\n",
       "      <th>2</th>\n",
       "      <td>1.498 -  2.188</td>\n",
       "      <td>9.0</td>\n",
       "      <td>0.1115</td>\n",
       "      <td>11.15</td>\n",
       "      <td></td>\n",
       "    </tr>\n",
       "    <tr>\n",
       "      <th>3</th>\n",
       "      <td>2.188 -  2.879</td>\n",
       "      <td>17.0</td>\n",
       "      <td>0.0559</td>\n",
       "      <td>5.59</td>\n",
       "      <td></td>\n",
       "    </tr>\n",
       "    <tr>\n",
       "      <th>4</th>\n",
       "      <td>2.879 -  3.569</td>\n",
       "      <td>5.0</td>\n",
       "      <td>0.0280</td>\n",
       "      <td>2.80</td>\n",
       "      <td></td>\n",
       "    </tr>\n",
       "    <tr>\n",
       "      <th>5</th>\n",
       "      <td>3.569 -  4.260</td>\n",
       "      <td>9.0</td>\n",
       "      <td>0.0141</td>\n",
       "      <td>1.41</td>\n",
       "      <td></td>\n",
       "    </tr>\n",
       "    <tr>\n",
       "      <th>6</th>\n",
       "      <td>4.260 -  4.950</td>\n",
       "      <td>3.0</td>\n",
       "      <td>0.1245</td>\n",
       "      <td>12.45</td>\n",
       "      <td></td>\n",
       "    </tr>\n",
       "  </tbody>\n",
       "</table>\n",
       "</div>"
      ],
      "text/plain": [
       "  Intervalos de llegada  Frecuencia observada  Probabilidad de ocurrencia  \\\n",
       "0        0.117 -  0.807                  33.0                      0.4436   \n",
       "1        0.807 -  1.498                  24.0                      0.2224   \n",
       "2        1.498 -  2.188                   9.0                      0.1115   \n",
       "3        2.188 -  2.879                  17.0                      0.0559   \n",
       "4        2.879 -  3.569                   5.0                      0.0280   \n",
       "5        3.569 -  4.260                   9.0                      0.0141   \n",
       "6        4.260 -  4.950                   3.0                      0.1245   \n",
       "\n",
       "   Frecuencia esperada Agrupada (>=5)  \n",
       "0                44.36                 \n",
       "1                22.24                 \n",
       "2                11.15                 \n",
       "3                 5.59                 \n",
       "4                 2.80                 \n",
       "5                 1.41                 \n",
       "6                12.45                 "
      ]
     },
     "execution_count": 168,
     "metadata": {},
     "output_type": "execute_result"
    }
   ],
   "source": [
    "tabla['Frecuencia esperada'] = [round(100*p, 4) for p in probs]\n",
    "tabla['Agrupada (>=5)'] = ''\n",
    "tabla "
   ]
  },
  {
   "cell_type": "markdown",
   "metadata": {},
   "source": [
    "## Agrupación (>=5)"
   ]
  },
  {
   "cell_type": "code",
   "execution_count": 169,
   "metadata": {},
   "outputs": [
    {
     "data": {
      "text/html": [
       "<div>\n",
       "<style>\n",
       "    .dataframe thead tr:only-child th {\n",
       "        text-align: right;\n",
       "    }\n",
       "\n",
       "    .dataframe thead th {\n",
       "        text-align: left;\n",
       "    }\n",
       "\n",
       "    .dataframe tbody tr th {\n",
       "        vertical-align: top;\n",
       "    }\n",
       "</style>\n",
       "<table border=\"1\" class=\"dataframe\">\n",
       "  <thead>\n",
       "    <tr style=\"text-align: right;\">\n",
       "      <th></th>\n",
       "      <th>Intervalos de llegada</th>\n",
       "      <th>Frecuencia observada</th>\n",
       "      <th>Probabilidad de ocurrencia</th>\n",
       "      <th>Frecuencia esperada</th>\n",
       "      <th>Agrupada (&gt;=5)</th>\n",
       "    </tr>\n",
       "  </thead>\n",
       "  <tbody>\n",
       "    <tr>\n",
       "      <th>0</th>\n",
       "      <td>0.117 -  0.807</td>\n",
       "      <td>33.0</td>\n",
       "      <td>0.4436</td>\n",
       "      <td>44.36</td>\n",
       "      <td></td>\n",
       "    </tr>\n",
       "    <tr>\n",
       "      <th>1</th>\n",
       "      <td>0.807 -  1.498</td>\n",
       "      <td>24.0</td>\n",
       "      <td>0.2224</td>\n",
       "      <td>22.24</td>\n",
       "      <td></td>\n",
       "    </tr>\n",
       "    <tr>\n",
       "      <th>2</th>\n",
       "      <td>1.498 -  2.188</td>\n",
       "      <td>9.0</td>\n",
       "      <td>0.1115</td>\n",
       "      <td>11.15</td>\n",
       "      <td></td>\n",
       "    </tr>\n",
       "    <tr>\n",
       "      <th>3</th>\n",
       "      <td>2.188 -  2.879</td>\n",
       "      <td>17.0</td>\n",
       "      <td>0.0559</td>\n",
       "      <td>5.59</td>\n",
       "      <td></td>\n",
       "    </tr>\n",
       "    <tr>\n",
       "      <th>4</th>\n",
       "      <td>2.879 -  3.569</td>\n",
       "      <td>5.0</td>\n",
       "      <td>0.0280</td>\n",
       "      <td>2.80</td>\n",
       "      <td></td>\n",
       "    </tr>\n",
       "    <tr>\n",
       "      <th>5</th>\n",
       "      <td>3.569 -  4.260</td>\n",
       "      <td>9.0</td>\n",
       "      <td>0.0141</td>\n",
       "      <td>1.41</td>\n",
       "      <td>9.8</td>\n",
       "    </tr>\n",
       "    <tr>\n",
       "      <th>6</th>\n",
       "      <td>4.260 -  4.950</td>\n",
       "      <td>3.0</td>\n",
       "      <td>0.1245</td>\n",
       "      <td>12.45</td>\n",
       "      <td></td>\n",
       "    </tr>\n",
       "  </tbody>\n",
       "</table>\n",
       "</div>"
      ],
      "text/plain": [
       "  Intervalos de llegada  Frecuencia observada  Probabilidad de ocurrencia  \\\n",
       "0        0.117 -  0.807                  33.0                      0.4436   \n",
       "1        0.807 -  1.498                  24.0                      0.2224   \n",
       "2        1.498 -  2.188                   9.0                      0.1115   \n",
       "3        2.188 -  2.879                  17.0                      0.0559   \n",
       "4        2.879 -  3.569                   5.0                      0.0280   \n",
       "5        3.569 -  4.260                   9.0                      0.0141   \n",
       "6        4.260 -  4.950                   3.0                      0.1245   \n",
       "\n",
       "   Frecuencia esperada Agrupada (>=5)  \n",
       "0                44.36                 \n",
       "1                22.24                 \n",
       "2                11.15                 \n",
       "3                 5.59                 \n",
       "4                 2.80                 \n",
       "5                 1.41            9.8  \n",
       "6                12.45                 "
      ]
     },
     "execution_count": 169,
     "metadata": {},
     "output_type": "execute_result"
    }
   ],
   "source": [
    "tabla.loc[5, 'Agrupada (>=5)'] = sum(tabla['Frecuencia esperada'][[3, 4, 5]])\n",
    "tabla"
   ]
  },
  {
   "cell_type": "markdown",
   "metadata": {},
   "source": [
    "## Chi cuadrada calculada"
   ]
  },
  {
   "cell_type": "code",
   "execution_count": 170,
   "metadata": {},
   "outputs": [
    {
     "data": {
      "text/html": [
       "<div>\n",
       "<style>\n",
       "    .dataframe thead tr:only-child th {\n",
       "        text-align: right;\n",
       "    }\n",
       "\n",
       "    .dataframe thead th {\n",
       "        text-align: left;\n",
       "    }\n",
       "\n",
       "    .dataframe tbody tr th {\n",
       "        vertical-align: top;\n",
       "    }\n",
       "</style>\n",
       "<table border=\"1\" class=\"dataframe\">\n",
       "  <thead>\n",
       "    <tr style=\"text-align: right;\">\n",
       "      <th></th>\n",
       "      <th>Intervalos de llegada</th>\n",
       "      <th>Frecuencia observada</th>\n",
       "      <th>Probabilidad de ocurrencia</th>\n",
       "      <th>Frecuencia esperada</th>\n",
       "      <th>Agrupada (&gt;=5)</th>\n",
       "      <th>Chi cuadrada</th>\n",
       "    </tr>\n",
       "  </thead>\n",
       "  <tbody>\n",
       "    <tr>\n",
       "      <th>0</th>\n",
       "      <td>0.117 -  0.807</td>\n",
       "      <td>33.0</td>\n",
       "      <td>0.4436</td>\n",
       "      <td>44.36</td>\n",
       "      <td></td>\n",
       "      <td>2.90914</td>\n",
       "    </tr>\n",
       "    <tr>\n",
       "      <th>1</th>\n",
       "      <td>0.807 -  1.498</td>\n",
       "      <td>24.0</td>\n",
       "      <td>0.2224</td>\n",
       "      <td>22.24</td>\n",
       "      <td></td>\n",
       "      <td>0.139281</td>\n",
       "    </tr>\n",
       "    <tr>\n",
       "      <th>2</th>\n",
       "      <td>1.498 -  2.188</td>\n",
       "      <td>9.0</td>\n",
       "      <td>0.1115</td>\n",
       "      <td>11.15</td>\n",
       "      <td></td>\n",
       "      <td>0.414574</td>\n",
       "    </tr>\n",
       "    <tr>\n",
       "      <th>3</th>\n",
       "      <td>2.188 -  2.879</td>\n",
       "      <td>17.0</td>\n",
       "      <td>0.0559</td>\n",
       "      <td>5.59</td>\n",
       "      <td></td>\n",
       "      <td></td>\n",
       "    </tr>\n",
       "    <tr>\n",
       "      <th>4</th>\n",
       "      <td>2.879 -  3.569</td>\n",
       "      <td>5.0</td>\n",
       "      <td>0.0280</td>\n",
       "      <td>2.80</td>\n",
       "      <td></td>\n",
       "      <td></td>\n",
       "    </tr>\n",
       "    <tr>\n",
       "      <th>5</th>\n",
       "      <td>3.569 -  4.260</td>\n",
       "      <td>9.0</td>\n",
       "      <td>0.0141</td>\n",
       "      <td>1.41</td>\n",
       "      <td>9.8</td>\n",
       "      <td>45.8612</td>\n",
       "    </tr>\n",
       "    <tr>\n",
       "      <th>6</th>\n",
       "      <td>4.260 -  4.950</td>\n",
       "      <td>3.0</td>\n",
       "      <td>0.1245</td>\n",
       "      <td>12.45</td>\n",
       "      <td></td>\n",
       "      <td>7.17289</td>\n",
       "    </tr>\n",
       "  </tbody>\n",
       "</table>\n",
       "</div>"
      ],
      "text/plain": [
       "  Intervalos de llegada  Frecuencia observada  Probabilidad de ocurrencia  \\\n",
       "0        0.117 -  0.807                  33.0                      0.4436   \n",
       "1        0.807 -  1.498                  24.0                      0.2224   \n",
       "2        1.498 -  2.188                   9.0                      0.1115   \n",
       "3        2.188 -  2.879                  17.0                      0.0559   \n",
       "4        2.879 -  3.569                   5.0                      0.0280   \n",
       "5        3.569 -  4.260                   9.0                      0.0141   \n",
       "6        4.260 -  4.950                   3.0                      0.1245   \n",
       "\n",
       "   Frecuencia esperada Agrupada (>=5) Chi cuadrada  \n",
       "0                44.36                     2.90914  \n",
       "1                22.24                    0.139281  \n",
       "2                11.15                    0.414574  \n",
       "3                 5.59                              \n",
       "4                 2.80                              \n",
       "5                 1.41            9.8      45.8612  \n",
       "6                12.45                     7.17289  "
      ]
     },
     "execution_count": 170,
     "metadata": {},
     "output_type": "execute_result"
    }
   ],
   "source": [
    "o = list(tabla['Frecuencia observada'][[0,1,2]])\n",
    "o.append(sum(tabla['Frecuencia observada'][[3,4,5]]))\n",
    "o.append(tabla['Frecuencia observada'][6])\n",
    "\n",
    "e = list(tabla['Frecuencia esperada'][[0,1,2]])\n",
    "e.append(tabla['Agrupada (>=5)'][5])\n",
    "e.append(tabla['Frecuencia esperada'][6])\n",
    "\n",
    "chi = []\n",
    "for i in range(0,5):\n",
    "    chi.append(((o[i] - e[i])**2)/e[i])\n",
    "\n",
    "chi_calculada = sum(chi)\n",
    "chi.insert(3, '')\n",
    "chi.insert(4, '')\n",
    "tabla['Chi cuadrada'] = chi\n",
    "\n",
    "tabla"
   ]
  },
  {
   "cell_type": "code",
   "execution_count": 171,
   "metadata": {},
   "outputs": [
    {
     "data": {
      "text/plain": [
       "56.497113995039506"
      ]
     },
     "execution_count": 171,
     "metadata": {},
     "output_type": "execute_result"
    }
   ],
   "source": [
    "chi_calculada"
   ]
  },
  {
   "cell_type": "markdown",
   "metadata": {},
   "source": [
    "## Chi cuadrada inversa"
   ]
  },
  {
   "cell_type": "code",
   "execution_count": 172,
   "metadata": {},
   "outputs": [
    {
     "data": {
      "text/plain": [
       "7.8147279032511783"
      ]
     },
     "execution_count": 172,
     "metadata": {},
     "output_type": "execute_result"
    }
   ],
   "source": [
    "from scipy.stats import chi2\n",
    "\n",
    "chi2.isf(.05, 3)"
   ]
  }
 ],
 "metadata": {
  "kernelspec": {
   "display_name": "Python 3",
   "language": "python",
   "name": "python3"
  },
  "language_info": {
   "codemirror_mode": {
    "name": "ipython",
    "version": 3
   },
   "file_extension": ".py",
   "mimetype": "text/x-python",
   "name": "python",
   "nbconvert_exporter": "python",
   "pygments_lexer": "ipython3",
   "version": "3.6.1"
  }
 },
 "nbformat": 4,
 "nbformat_minor": 2
}
